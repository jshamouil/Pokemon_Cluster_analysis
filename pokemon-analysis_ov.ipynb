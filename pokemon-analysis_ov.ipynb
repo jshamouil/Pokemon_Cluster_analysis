{
 "cells": [
  {
   "cell_type": "markdown",
   "metadata": {
    "papermill": {
     "duration": 0.033066,
     "end_time": "2021-01-07T04:54:19.453973",
     "exception": false,
     "start_time": "2021-01-07T04:54:19.420907",
     "status": "completed"
    },
    "tags": []
   },
   "source": [
    "# Pokemon Analysis"
   ]
  },
  {
   "cell_type": "code",
   "execution_count": 1,
   "metadata": {
    "execution": {
     "iopub.execute_input": "2021-01-07T04:54:19.522143Z",
     "iopub.status.busy": "2021-01-07T04:54:19.521473Z",
     "iopub.status.idle": "2021-01-07T04:54:29.981135Z",
     "shell.execute_reply": "2021-01-07T04:54:29.980501Z"
    },
    "papermill": {
     "duration": 10.494963,
     "end_time": "2021-01-07T04:54:29.981253",
     "exception": false,
     "start_time": "2021-01-07T04:54:19.486290",
     "status": "completed"
    },
    "tags": []
   },
   "outputs": [
    {
     "name": "stdout",
     "output_type": "stream",
     "text": [
      "Collecting kneed\r\n",
      "  Downloading kneed-0.7.0-py2.py3-none-any.whl (9.4 kB)\r\n",
      "Requirement already satisfied: numpy>=1.14.2 in /opt/conda/lib/python3.7/site-packages (from kneed) (1.18.5)\r\n",
      "Requirement already satisfied: scipy in /opt/conda/lib/python3.7/site-packages (from kneed) (1.4.1)\r\n",
      "Requirement already satisfied: matplotlib in /opt/conda/lib/python3.7/site-packages (from kneed) (3.2.1)\r\n",
      "Requirement already satisfied: cycler>=0.10 in /opt/conda/lib/python3.7/site-packages (from matplotlib->kneed) (0.10.0)\r\n",
      "Requirement already satisfied: kiwisolver>=1.0.1 in /opt/conda/lib/python3.7/site-packages (from matplotlib->kneed) (1.2.0)\r\n",
      "Requirement already satisfied: pyparsing!=2.0.4,!=2.1.2,!=2.1.6,>=2.0.1 in /opt/conda/lib/python3.7/site-packages (from matplotlib->kneed) (2.4.7)\r\n",
      "Requirement already satisfied: numpy>=1.14.2 in /opt/conda/lib/python3.7/site-packages (from kneed) (1.18.5)\r\n",
      "Requirement already satisfied: python-dateutil>=2.1 in /opt/conda/lib/python3.7/site-packages (from matplotlib->kneed) (2.8.1)\r\n",
      "Requirement already satisfied: six in /opt/conda/lib/python3.7/site-packages (from cycler>=0.10->matplotlib->kneed) (1.14.0)\r\n",
      "Requirement already satisfied: six in /opt/conda/lib/python3.7/site-packages (from cycler>=0.10->matplotlib->kneed) (1.14.0)\r\n",
      "Requirement already satisfied: numpy>=1.14.2 in /opt/conda/lib/python3.7/site-packages (from kneed) (1.18.5)\r\n",
      "Installing collected packages: kneed\r\n",
      "Successfully installed kneed-0.7.0\r\n",
      "\u001b[33mWARNING: You are using pip version 20.3.1; however, version 20.3.3 is available.\r\n",
      "You should consider upgrading via the '/opt/conda/bin/python3.7 -m pip install --upgrade pip' command.\u001b[0m\r\n"
     ]
    }
   ],
   "source": [
    "!pip install kneed"
   ]
  },
  {
   "cell_type": "code",
   "execution_count": 2,
   "metadata": {
    "execution": {
     "iopub.execute_input": "2021-01-07T04:54:30.057782Z",
     "iopub.status.busy": "2021-01-07T04:54:30.056964Z",
     "iopub.status.idle": "2021-01-07T04:54:31.584556Z",
     "shell.execute_reply": "2021-01-07T04:54:31.585124Z"
    },
    "papermill": {
     "duration": 1.568505,
     "end_time": "2021-01-07T04:54:31.585268",
     "exception": false,
     "start_time": "2021-01-07T04:54:30.016763",
     "status": "completed"
    },
    "tags": []
   },
   "outputs": [],
   "source": [
    "#import libraries\n",
    "import pandas as pd\n",
    "from sklearn.cluster import KMeans\n",
    "import matplotlib.pyplot as plt\n",
    "from kneed import KneeLocator\n",
    "from sklearn.metrics import silhouette_score"
   ]
  },
  {
   "cell_type": "code",
   "execution_count": 3,
   "metadata": {
    "execution": {
     "iopub.execute_input": "2021-01-07T04:54:31.665517Z",
     "iopub.status.busy": "2021-01-07T04:54:31.664831Z",
     "iopub.status.idle": "2021-01-07T04:54:31.701192Z",
     "shell.execute_reply": "2021-01-07T04:54:31.702074Z"
    },
    "papermill": {
     "duration": 0.081883,
     "end_time": "2021-01-07T04:54:31.702306",
     "exception": false,
     "start_time": "2021-01-07T04:54:31.620423",
     "status": "completed"
    },
    "tags": []
   },
   "outputs": [
    {
     "name": "stdout",
     "output_type": "stream",
     "text": [
      "         Name Number Normal  Fire Water Electric  Grass   Ice Fighting Poison  \\\n",
      "0   Bulbasaur   #001     *1    *2  *0.5     *0.5  *0.25    *2     *0.5     *1   \n",
      "1     Ivysaur   #002     *1    *2  *0.5     *0.5  *0.25    *2     *0.5     *1   \n",
      "2    Venusaur   #003     *1    *2  *0.5     *0.5  *0.25    *2     *0.5     *1   \n",
      "3  Charmander   #004     *1  *0.5    *2       *1   *0.5  *0.5       *1     *1   \n",
      "4  Charmeleon   #005     *1  *0.5    *2       *1   *0.5  *0.5       *1     *1   \n",
      "\n",
      "  Ground Flying Psychic   Bug Rock Ghost Dragon Dark Steel Fairy  \n",
      "0     *1     *2      *2    *1   *1    *1     *1   *1    *1  *0.5  \n",
      "1     *1     *2      *2    *1   *1    *1     *1   *1    *1  *0.5  \n",
      "2     *1     *2      *2    *1   *1    *1     *1   *1    *1  *0.5  \n",
      "3     *2     *1      *1  *0.5   *2    *1     *1   *1  *0.5  *0.5  \n",
      "4     *2     *1      *1  *0.5   *2    *1     *1   *1  *0.5  *0.5  \n"
     ]
    }
   ],
   "source": [
    "#import dataset\n",
    "poke = pd.read_csv(\"/kaggle/input/pokemon-type-matchup-data/PokeTypeMatchupData.csv\")\n",
    "print(poke.head())"
   ]
  },
  {
   "cell_type": "code",
   "execution_count": 4,
   "metadata": {
    "execution": {
     "iopub.execute_input": "2021-01-07T04:54:31.777030Z",
     "iopub.status.busy": "2021-01-07T04:54:31.776403Z",
     "iopub.status.idle": "2021-01-07T04:54:31.782127Z",
     "shell.execute_reply": "2021-01-07T04:54:31.782727Z"
    },
    "papermill": {
     "duration": 0.044771,
     "end_time": "2021-01-07T04:54:31.782874",
     "exception": false,
     "start_time": "2021-01-07T04:54:31.738103",
     "status": "completed"
    },
    "tags": []
   },
   "outputs": [],
   "source": [
    "#define variables\n",
    "n=len(poke)\n",
    "unique_type_combos = 154\n",
    "numeric_columns = poke.columns.drop(['Name'])\n",
    "poke_type_columns = numeric_columns.drop(['Number'])"
   ]
  },
  {
   "cell_type": "code",
   "execution_count": 5,
   "metadata": {
    "execution": {
     "iopub.execute_input": "2021-01-07T04:54:31.857387Z",
     "iopub.status.busy": "2021-01-07T04:54:31.856746Z",
     "iopub.status.idle": "2021-01-07T04:54:31.864295Z",
     "shell.execute_reply": "2021-01-07T04:54:31.863583Z"
    },
    "papermill": {
     "duration": 0.046254,
     "end_time": "2021-01-07T04:54:31.864415",
     "exception": false,
     "start_time": "2021-01-07T04:54:31.818161",
     "status": "completed"
    },
    "tags": []
   },
   "outputs": [
    {
     "name": "stdout",
     "output_type": "stream",
     "text": [
      "Index(['Number', 'Normal', 'Fire', 'Water', 'Electric', 'Grass', 'Ice',\n",
      "       'Fighting', 'Poison', 'Ground', 'Flying', 'Psychic', 'Bug', 'Rock',\n",
      "       'Ghost', 'Dragon', 'Dark', 'Steel', 'Fairy'],\n",
      "      dtype='object')\n",
      "<class 'str'>\n"
     ]
    }
   ],
   "source": [
    "print(numeric_columns)\n",
    "print(type(poke[\"Normal\"][0]))"
   ]
  },
  {
   "cell_type": "code",
   "execution_count": 6,
   "metadata": {
    "execution": {
     "iopub.execute_input": "2021-01-07T04:54:31.943939Z",
     "iopub.status.busy": "2021-01-07T04:54:31.942928Z",
     "iopub.status.idle": "2021-01-07T04:54:32.736303Z",
     "shell.execute_reply": "2021-01-07T04:54:32.735632Z"
    },
    "papermill": {
     "duration": 0.834181,
     "end_time": "2021-01-07T04:54:32.736420",
     "exception": false,
     "start_time": "2021-01-07T04:54:31.902239",
     "status": "completed"
    },
    "tags": []
   },
   "outputs": [],
   "source": [
    "#takeout the first position of each value of each field \n",
    "#and convert each to a float type\n",
    "for name in numeric_columns:\n",
    "    for i in range(0,n):\n",
    "        poke[name][i] = float(poke[name][i][1:])"
   ]
  },
  {
   "cell_type": "code",
   "execution_count": 7,
   "metadata": {
    "execution": {
     "iopub.execute_input": "2021-01-07T04:54:32.823968Z",
     "iopub.status.busy": "2021-01-07T04:54:32.822983Z",
     "iopub.status.idle": "2021-01-07T04:54:32.828135Z",
     "shell.execute_reply": "2021-01-07T04:54:32.827463Z"
    },
    "papermill": {
     "duration": 0.055353,
     "end_time": "2021-01-07T04:54:32.828260",
     "exception": false,
     "start_time": "2021-01-07T04:54:32.772907",
     "status": "completed"
    },
    "tags": []
   },
   "outputs": [
    {
     "name": "stdout",
     "output_type": "stream",
     "text": [
      "         Name Number Normal Fire Water Electric Grass  Ice Fighting Poison  \\\n",
      "0   Bulbasaur      1      1    2   0.5      0.5  0.25    2      0.5      1   \n",
      "1     Ivysaur      2      1    2   0.5      0.5  0.25    2      0.5      1   \n",
      "2    Venusaur      3      1    2   0.5      0.5  0.25    2      0.5      1   \n",
      "3  Charmander      4      1  0.5     2        1   0.5  0.5        1      1   \n",
      "4  Charmeleon      5      1  0.5     2        1   0.5  0.5        1      1   \n",
      "\n",
      "  Ground Flying Psychic  Bug Rock Ghost Dragon Dark Steel Fairy  \n",
      "0      1      2       2    1    1     1      1    1     1   0.5  \n",
      "1      1      2       2    1    1     1      1    1     1   0.5  \n",
      "2      1      2       2    1    1     1      1    1     1   0.5  \n",
      "3      2      1       1  0.5    2     1      1    1   0.5   0.5  \n",
      "4      2      1       1  0.5    2     1      1    1   0.5   0.5  \n"
     ]
    }
   ],
   "source": [
    "print(poke.head())"
   ]
  },
  {
   "cell_type": "code",
   "execution_count": 8,
   "metadata": {
    "execution": {
     "iopub.execute_input": "2021-01-07T04:54:32.907650Z",
     "iopub.status.busy": "2021-01-07T04:54:32.906977Z",
     "iopub.status.idle": "2021-01-07T04:54:32.939004Z",
     "shell.execute_reply": "2021-01-07T04:54:32.938183Z"
    },
    "papermill": {
     "duration": 0.07476,
     "end_time": "2021-01-07T04:54:32.939199",
     "exception": false,
     "start_time": "2021-01-07T04:54:32.864439",
     "status": "completed"
    },
    "tags": []
   },
   "outputs": [],
   "source": [
    "#lets rank each pokemon based on how well they battle each type\n",
    "poke[\"score\"] = 1\n",
    "for i in poke_type_columns:\n",
    "    poke[\"score\"] = poke[\"score\"]+poke[i]"
   ]
  },
  {
   "cell_type": "code",
   "execution_count": 9,
   "metadata": {
    "execution": {
     "iopub.execute_input": "2021-01-07T04:54:33.020476Z",
     "iopub.status.busy": "2021-01-07T04:54:33.019852Z",
     "iopub.status.idle": "2021-01-07T04:54:33.034949Z",
     "shell.execute_reply": "2021-01-07T04:54:33.034226Z"
    },
    "papermill": {
     "duration": 0.058548,
     "end_time": "2021-01-07T04:54:33.035071",
     "exception": false,
     "start_time": "2021-01-07T04:54:32.976523",
     "status": "completed"
    },
    "tags": []
   },
   "outputs": [
    {
     "name": "stdout",
     "output_type": "stream",
     "text": [
      "                     Name  score\n",
      "484              Magearna  14.25\n",
      "185                Mawile  14.25\n",
      "568    Zacian Crown Sword  14.25\n",
      "418                Klefki  14.25\n",
      "151              Skarmory   14.5\n",
      "502           Corviknight   14.5\n",
      "396              Doublade  15.25\n",
      "563             Duraludon  15.25\n",
      "397             Aegislash  15.25\n",
      "395               Honedge  15.25\n",
      "343                 Klink     16\n",
      "344                 Klang     16\n",
      "36   Meowth Galarian Form     16\n",
      "557                Cufant     16\n",
      "542            Perrserker     16\n",
      "558            Copperajah     16\n",
      "487                Meltan     16\n",
      "488              Melmetal     16\n",
      "345             Klinklang     16\n",
      "379              Cobalion   16.5\n",
      "                      Name  score\n",
      "98   Mr.Mime Galarian Form     24\n",
      "520                Flapple  24.25\n",
      "76    Exeggutor Alola Form  24.25\n",
      "521               Appletun  24.25\n",
      "519                 Applin  24.25\n",
      "247                Weavile   24.5\n",
      "142                Sneasel   24.5\n",
      "161                 Celebi     25\n",
      "74               Exeggcute     25\n",
      "75               Exeggutor     25\n",
      "87                  Rhydon  25.25\n",
      "86                 Rhyhorn  25.25\n",
      "71                    Onix  25.25\n",
      "250              Rhyperior  25.25\n",
      "159                Pupitar  25.25\n",
      "158               Larvitar  25.25\n",
      "551                   Snom   25.5\n",
      "552               Frosmoth   25.5\n",
      "245                 Snover     26\n",
      "246              Abomasnow     26\n"
     ]
    }
   ],
   "source": [
    "#check to see the top and bottom strongest pokemon\n",
    "print(poke.sort_values(\"score\")[[\"Name\",\"score\"]].head(20))\n",
    "print(poke.sort_values(\"score\")[[\"Name\",\"score\"]].tail(20))"
   ]
  },
  {
   "cell_type": "code",
   "execution_count": 10,
   "metadata": {
    "execution": {
     "iopub.execute_input": "2021-01-07T04:54:33.117582Z",
     "iopub.status.busy": "2021-01-07T04:54:33.116899Z",
     "iopub.status.idle": "2021-01-07T04:54:33.346278Z",
     "shell.execute_reply": "2021-01-07T04:54:33.345194Z"
    },
    "papermill": {
     "duration": 0.273557,
     "end_time": "2021-01-07T04:54:33.346402",
     "exception": false,
     "start_time": "2021-01-07T04:54:33.072845",
     "status": "completed"
    },
    "tags": []
   },
   "outputs": [
    {
     "name": "stdout",
     "output_type": "stream",
     "text": [
      "Overall our best score is 14.25  and our worst score is  26.0\n"
     ]
    },
    {
     "data": {
      "image/png": "[encoded data removed]",
      "text/plain": [
       "<Figure size 432x288 with 1 Axes>"
      ]
     },
     "metadata": {
      "needs_background": "light"
     },
     "output_type": "display_data"
    }
   ],
   "source": [
    "x = poke[\"score\"]\n",
    "plt.hist(x)\n",
    "print(\"Overall our best score is\", str(min(x)), \" and our worst score is \", str(max(x)))"
   ]
  },
  {
   "cell_type": "code",
   "execution_count": 11,
   "metadata": {
    "execution": {
     "iopub.execute_input": "2021-01-07T04:54:33.431612Z",
     "iopub.status.busy": "2021-01-07T04:54:33.430664Z",
     "iopub.status.idle": "2021-01-07T04:54:33.434273Z",
     "shell.execute_reply": "2021-01-07T04:54:33.435072Z"
    },
    "papermill": {
     "duration": 0.05028,
     "end_time": "2021-01-07T04:54:33.435498",
     "exception": false,
     "start_time": "2021-01-07T04:54:33.385218",
     "status": "completed"
    },
    "tags": []
   },
   "outputs": [
    {
     "name": "stdout",
     "output_type": "stream",
     "text": [
      "185                Mawile\n",
      "418                Klefki\n",
      "484              Magearna\n",
      "568    Zacian Crown Sword\n",
      "Name: Name, dtype: object\n"
     ]
    }
   ],
   "source": [
    "#list the pokemon with the highest score\n",
    "print(poke[poke[\"score\"] == 14.25][\"Name\"])"
   ]
  },
  {
   "cell_type": "markdown",
   "metadata": {
    "papermill": {
     "duration": 0.038461,
     "end_time": "2021-01-07T04:54:33.514335",
     "exception": false,
     "start_time": "2021-01-07T04:54:33.475874",
     "status": "completed"
    },
    "tags": []
   },
   "source": [
    "All of the above pokemon have have the type combination of steel and fairy. This is an impressive combination because defensively steel is strong against normal, grass, ice, flying, psychic, bug, rock, ghost, dragon, dark, steel, and fairy. When fairy is added to this type combination it negates steel's weakness against fighing and increases it's strength against bug, dark and dragon. This leaves only weeknesses to ground and fire."
   ]
  },
  {
   "cell_type": "code",
   "execution_count": 12,
   "metadata": {
    "execution": {
     "iopub.execute_input": "2021-01-07T04:54:33.600901Z",
     "iopub.status.busy": "2021-01-07T04:54:33.600095Z",
     "iopub.status.idle": "2021-01-07T04:54:33.605086Z",
     "shell.execute_reply": "2021-01-07T04:54:33.603858Z"
    },
    "papermill": {
     "duration": 0.051967,
     "end_time": "2021-01-07T04:54:33.605210",
     "exception": false,
     "start_time": "2021-01-07T04:54:33.553243",
     "status": "completed"
    },
    "tags": []
   },
   "outputs": [
    {
     "name": "stdout",
     "output_type": "stream",
     "text": [
      "245       Snover\n",
      "246    Abomasnow\n",
      "Name: Name, dtype: object\n"
     ]
    }
   ],
   "source": [
    "#list the pokemon with the lowest score\n",
    "print(poke[poke[\"score\"] == 26][\"Name\"])"
   ]
  },
  {
   "cell_type": "markdown",
   "metadata": {
    "papermill": {
     "duration": 0.03896,
     "end_time": "2021-01-07T04:54:33.683885",
     "exception": false,
     "start_time": "2021-01-07T04:54:33.644925",
     "status": "completed"
    },
    "tags": []
   },
   "source": [
    "The above two pokemon have have the type combination of grass and ice. Although, grass is defensively strong against water, grass, elecctric, and ground, it is weak against fire, ice, poison, flying, and bug. Additionally, when ice is added to the equation the weakness increase to fighting, rock, and steel. It also has a double weaakness to fire."
   ]
  },
  {
   "cell_type": "markdown",
   "metadata": {
    "papermill": {
     "duration": 0.038734,
     "end_time": "2021-01-07T04:54:33.761921",
     "exception": false,
     "start_time": "2021-01-07T04:54:33.723187",
     "status": "completed"
    },
    "tags": []
   },
   "source": [
    "# Cluster Analysis"
   ]
  },
  {
   "cell_type": "markdown",
   "metadata": {
    "papermill": {
     "duration": 0.040061,
     "end_time": "2021-01-07T04:54:33.841228",
     "exception": false,
     "start_time": "2021-01-07T04:54:33.801167",
     "status": "completed"
    },
    "tags": []
   },
   "source": [
    "In the above analysis we found which pokemon types are the strongest and weakest. Let's go a bit further to see which type combinations are most similar to each other by using a cluster analysis. This way we can better understand we want to choose when forming our team."
   ]
  },
  {
   "cell_type": "markdown",
   "metadata": {
    "papermill": {
     "duration": 0.039864,
     "end_time": "2021-01-07T04:54:33.920164",
     "exception": false,
     "start_time": "2021-01-07T04:54:33.880300",
     "status": "completed"
    },
    "tags": []
   },
   "source": [
    "## K-Means Clustering"
   ]
  },
  {
   "cell_type": "code",
   "execution_count": 13,
   "metadata": {
    "execution": {
     "iopub.execute_input": "2021-01-07T04:54:34.009746Z",
     "iopub.status.busy": "2021-01-07T04:54:34.008989Z",
     "iopub.status.idle": "2021-01-07T04:54:34.090310Z",
     "shell.execute_reply": "2021-01-07T04:54:34.091001Z"
    },
    "papermill": {
     "duration": 0.13043,
     "end_time": "2021-01-07T04:54:34.091167",
     "exception": false,
     "start_time": "2021-01-07T04:54:33.960737",
     "status": "completed"
    },
    "tags": []
   },
   "outputs": [
    {
     "data": {
      "text/plain": [
       "KMeans(init='random', random_state=42)"
      ]
     },
     "execution_count": 13,
     "metadata": {},
     "output_type": "execute_result"
    }
   ],
   "source": [
    "#let's do a cluster analysis on each pokemon\n",
    "\n",
    "kmeans = KMeans(\n",
    "    init=\"random\",\n",
    "    n_clusters=8,\n",
    "    n_init=10,\n",
    "    max_iter=300,\n",
    "    random_state=42\n",
    ")\n",
    "kmeans.fit(poke[poke_type_columns])"
   ]
  },
  {
   "cell_type": "code",
   "execution_count": 14,
   "metadata": {
    "execution": {
     "iopub.execute_input": "2021-01-07T04:54:34.197264Z",
     "iopub.status.busy": "2021-01-07T04:54:34.196491Z",
     "iopub.status.idle": "2021-01-07T04:54:34.205165Z",
     "shell.execute_reply": "2021-01-07T04:54:34.205829Z"
    },
    "papermill": {
     "duration": 0.063747,
     "end_time": "2021-01-07T04:54:34.206006",
     "exception": false,
     "start_time": "2021-01-07T04:54:34.142259",
     "status": "completed"
    },
    "tags": []
   },
   "outputs": [
    {
     "name": "stdout",
     "output_type": "stream",
     "text": [
      "1958.0089918270473\n",
      "5\n",
      "[0 0 0 1 1]\n"
     ]
    }
   ],
   "source": [
    "#analyze the output\n",
    "# The lowest SSE value\n",
    "print(kmeans.inertia_)\n",
    "\n",
    "# Final locations of the centroid\n",
    "kmeans.cluster_centers_\n",
    "\n",
    "# The number of iterations required to converge\n",
    "print(kmeans.n_iter_)\n",
    "\n",
    "# first 5 predicted labels\n",
    "print(kmeans.labels_[:5])"
   ]
  },
  {
   "cell_type": "markdown",
   "metadata": {
    "papermill": {
     "duration": 0.045837,
     "end_time": "2021-01-07T04:54:34.304423",
     "exception": false,
     "start_time": "2021-01-07T04:54:34.258586",
     "status": "completed"
    },
    "tags": []
   },
   "source": [
    "Below I'll use the Elbow Method to find the optimal number of Clusters"
   ]
  },
  {
   "cell_type": "code",
   "execution_count": 15,
   "metadata": {
    "execution": {
     "iopub.execute_input": "2021-01-07T04:54:34.388329Z",
     "iopub.status.busy": "2021-01-07T04:54:34.387704Z",
     "iopub.status.idle": "2021-01-07T04:54:35.316180Z",
     "shell.execute_reply": "2021-01-07T04:54:35.316856Z"
    },
    "papermill": {
     "duration": 0.972232,
     "end_time": "2021-01-07T04:54:35.317002",
     "exception": false,
     "start_time": "2021-01-07T04:54:34.344770",
     "status": "completed"
    },
    "tags": []
   },
   "outputs": [],
   "source": [
    "# here we can use the elbow method to find the optimal number of clusters\n",
    "kmeans_kwargs = {\n",
    "    \"init\": \"random\",\n",
    "    \"n_init\": 10,\n",
    "    \"max_iter\": 300,\n",
    "    \"random_state\": 42,\n",
    "}\n",
    "\n",
    "# A list holds the SSE values for each k\n",
    "# Python’s dictionary unpacking operator (**)\n",
    "sse = []\n",
    "for k in range(1, 20):\n",
    "    kmeans = KMeans(n_clusters=k, **kmeans_kwargs)\n",
    "    kmeans.fit(poke[poke_type_columns])\n",
    "    sse.append(kmeans.inertia_)"
   ]
  },
  {
   "cell_type": "code",
   "execution_count": 16,
   "metadata": {
    "execution": {
     "iopub.execute_input": "2021-01-07T04:54:35.425901Z",
     "iopub.status.busy": "2021-01-07T04:54:35.425112Z",
     "iopub.status.idle": "2021-01-07T04:54:35.621346Z",
     "shell.execute_reply": "2021-01-07T04:54:35.621916Z"
    },
    "papermill": {
     "duration": 0.252165,
     "end_time": "2021-01-07T04:54:35.622075",
     "exception": false,
     "start_time": "2021-01-07T04:54:35.369910",
     "status": "completed"
    },
    "tags": []
   },
   "outputs": [
    {
     "data": {
      "image/png": "[encoded data removed]",
      "text/plain": [
       "<Figure size 432x288 with 1 Axes>"
      ]
     },
     "metadata": {},
     "output_type": "display_data"
    }
   ],
   "source": [
    " plt.style.use(\"fivethirtyeight\") \n",
    " plt.plot(range(1, 20), sse) \n",
    " plt.xticks(range(1, 20))\n",
    " plt.xlabel(\"Number of Clusters\")\n",
    " plt.ylabel(\"SSE\")\n",
    " plt.show()"
   ]
  },
  {
   "cell_type": "markdown",
   "metadata": {
    "papermill": {
     "duration": 0.041256,
     "end_time": "2021-01-07T04:54:35.706225",
     "exception": false,
     "start_time": "2021-01-07T04:54:35.664969",
     "status": "completed"
    },
    "tags": []
   },
   "source": [
    "Below I will compare the Elbow Method to the Silhouette Method for finding the optimal number of clusters"
   ]
  },
  {
   "cell_type": "code",
   "execution_count": 17,
   "metadata": {
    "execution": {
     "iopub.execute_input": "2021-01-07T04:54:35.820199Z",
     "iopub.status.busy": "2021-01-07T04:54:35.813974Z",
     "iopub.status.idle": "2021-01-07T04:54:36.271090Z",
     "shell.execute_reply": "2021-01-07T04:54:36.271635Z"
    },
    "papermill": {
     "duration": 0.513167,
     "end_time": "2021-01-07T04:54:36.271811",
     "exception": false,
     "start_time": "2021-01-07T04:54:35.758644",
     "status": "completed"
    },
    "tags": []
   },
   "outputs": [],
   "source": [
    "# A list holds the silhouette coefficients for each k\n",
    "silhouette_coefficients = []\n",
    "scaled_features = poke[poke_type_columns]\n",
    "\n",
    "# Notice you start at 2 clusters for silhouette coefficient\n",
    "for k in range(2, 11):\n",
    "    kmeans = KMeans(n_clusters=k, **kmeans_kwargs)\n",
    "    kmeans.fit(scaled_features)\n",
    "    score = silhouette_score(scaled_features, kmeans.labels_)\n",
    "    silhouette_coefficients.append(score)"
   ]
  },
  {
   "cell_type": "code",
   "execution_count": 18,
   "metadata": {
    "execution": {
     "iopub.execute_input": "2021-01-07T04:54:36.365472Z",
     "iopub.status.busy": "2021-01-07T04:54:36.363123Z",
     "iopub.status.idle": "2021-01-07T04:54:36.599806Z",
     "shell.execute_reply": "2021-01-07T04:54:36.599144Z"
    },
    "papermill": {
     "duration": 0.285488,
     "end_time": "2021-01-07T04:54:36.599921",
     "exception": false,
     "start_time": "2021-01-07T04:54:36.314433",
     "status": "completed"
    },
    "tags": []
   },
   "outputs": [
    {
     "data": {
      "image/png": "[encoded data removed]",
      "text/plain": [
       "<Figure size 432x288 with 1 Axes>"
      ]
     },
     "metadata": {},
     "output_type": "display_data"
    }
   ],
   "source": [
    "plt.style.use(\"fivethirtyeight\")\n",
    "plt.plot(range(2, 11), silhouette_coefficients)\n",
    "plt.xticks(range(2, 11))\n",
    "plt.xlabel(\"Number of Clusters\")\n",
    "plt.ylabel(\"Silhouette Coefficient\")\n",
    "plt.show()"
   ]
  },
  {
   "cell_type": "markdown",
   "metadata": {
    "papermill": {
     "duration": 0.042453,
     "end_time": "2021-01-07T04:54:36.685841",
     "exception": false,
     "start_time": "2021-01-07T04:54:36.643388",
     "status": "completed"
    },
    "tags": []
   },
   "source": [
    "## Hierarchical clustering"
   ]
  },
  {
   "cell_type": "code",
   "execution_count": 19,
   "metadata": {
    "execution": {
     "iopub.execute_input": "2021-01-07T04:54:36.778747Z",
     "iopub.status.busy": "2021-01-07T04:54:36.777997Z",
     "iopub.status.idle": "2021-01-07T04:54:36.886344Z",
     "shell.execute_reply": "2021-01-07T04:54:36.886942Z"
    },
    "papermill": {
     "duration": 0.158704,
     "end_time": "2021-01-07T04:54:36.887090",
     "exception": false,
     "start_time": "2021-01-07T04:54:36.728386",
     "status": "completed"
    },
    "tags": []
   },
   "outputs": [],
   "source": [
    "import numpy as np\n",
    "import pandas as pd\n",
    "\n",
    "import scipy\n",
    "from scipy.cluster.hierarchy import dendrogram,linkage\n",
    "from scipy.cluster.hierarchy import fcluster\n",
    "from scipy.cluster.hierarchy import cophenet\n",
    "from scipy.spatial.distance import pdist\n",
    "\n",
    "import matplotlib.pyplot as plt\n",
    "from pylab import rcParams\n",
    "\n",
    "import sklearn\n",
    "from sklearn import datasets\n",
    "from sklearn.cluster import AgglomerativeClustering\n",
    "import sklearn.metrics as sm\n",
    "from sklearn.preprocessing import scale"
   ]
  },
  {
   "cell_type": "code",
   "execution_count": 20,
   "metadata": {
    "execution": {
     "iopub.execute_input": "2021-01-07T04:54:36.982081Z",
     "iopub.status.busy": "2021-01-07T04:54:36.981324Z",
     "iopub.status.idle": "2021-01-07T04:54:36.985548Z",
     "shell.execute_reply": "2021-01-07T04:54:36.985037Z"
    },
    "papermill": {
     "duration": 0.055663,
     "end_time": "2021-01-07T04:54:36.985672",
     "exception": false,
     "start_time": "2021-01-07T04:54:36.930009",
     "status": "completed"
    },
    "tags": []
   },
   "outputs": [],
   "source": [
    "#Configure the output\n",
    "np.set_printoptions(precision=4,suppress=True)\n",
    "%matplotlib inline\n",
    "rcParams[\"figure.figsize\"] =20,10"
   ]
  },
  {
   "cell_type": "code",
   "execution_count": 21,
   "metadata": {
    "execution": {
     "iopub.execute_input": "2021-01-07T04:54:37.081868Z",
     "iopub.status.busy": "2021-01-07T04:54:37.080924Z",
     "iopub.status.idle": "2021-01-07T04:54:37.931950Z",
     "shell.execute_reply": "2021-01-07T04:54:37.931293Z"
    },
    "papermill": {
     "duration": 0.902981,
     "end_time": "2021-01-07T04:54:37.932076",
     "exception": false,
     "start_time": "2021-01-07T04:54:37.029095",
     "status": "completed"
    },
    "tags": []
   },
   "outputs": [
    {
     "data": {
      "image/png": "[encoded data removed]",
      "text/plain": [
       "<Figure size 1440x720 with 1 Axes>"
      ]
     },
     "metadata": {
      "needs_background": "light"
     },
     "output_type": "display_data"
    }
   ],
   "source": [
    "z = linkage(scaled_features,\"ward\")\n",
    "\n",
    "#generate dendrogram\n",
    "dendrogram(z,truncate_mode= \"lastp\", p =10, leaf_rotation=45,leaf_font_size=15, show_contracted=True)\n",
    "plt.title(\"Truncated Hierachial Clustering Dendrogram\")\n",
    "plt.xlabel(\"Cluster Size\")\n",
    "plt.ylabel(\"Distance\")\n",
    "#divide the cluster\n",
    "plt.axhline(y=20)\n",
    "plt.show()"
   ]
  },
  {
   "cell_type": "markdown",
   "metadata": {
    "papermill": {
     "duration": 0.044698,
     "end_time": "2021-01-07T04:54:38.021529",
     "exception": false,
     "start_time": "2021-01-07T04:54:37.976831",
     "status": "completed"
    },
    "tags": []
   },
   "source": [
    "## Analyzing Clusters"
   ]
  },
  {
   "cell_type": "markdown",
   "metadata": {
    "papermill": {
     "duration": 0.044349,
     "end_time": "2021-01-07T04:54:38.110703",
     "exception": false,
     "start_time": "2021-01-07T04:54:38.066354",
     "status": "completed"
    },
    "tags": []
   },
   "source": [
    "Going further I went with the heirarichal clustering results and chose to go with 5 clusters. I did this because a trainer is able to choose 6 pokemon for their team. Therefore the cluster analysis can help us choose 5 pokemon with disjoint type combinations and one extra to be chosen by the trainer."
   ]
  },
  {
   "cell_type": "code",
   "execution_count": 22,
   "metadata": {
    "execution": {
     "iopub.execute_input": "2021-01-07T04:54:38.213282Z",
     "iopub.status.busy": "2021-01-07T04:54:38.212235Z",
     "iopub.status.idle": "2021-01-07T04:54:38.453892Z",
     "shell.execute_reply": "2021-01-07T04:54:38.454521Z"
    },
    "papermill": {
     "duration": 0.29941,
     "end_time": "2021-01-07T04:54:38.454696",
     "exception": false,
     "start_time": "2021-01-07T04:54:38.155286",
     "status": "completed"
    },
    "tags": []
   },
   "outputs": [
    {
     "data": {
      "image/png": "[encoded data removed]",
      "text/plain": [
       "<Figure size 1440x720 with 1 Axes>"
      ]
     },
     "metadata": {
      "needs_background": "light"
     },
     "output_type": "display_data"
    }
   ],
   "source": [
    "#let's do a cluster analysis on each pokemon\n",
    "\n",
    "kmeans = KMeans(\n",
    "    init=\"random\",\n",
    "    n_clusters=5,\n",
    "    n_init=10,\n",
    "    max_iter=300,\n",
    "    random_state=42\n",
    ")\n",
    "kmeans.fit(poke[poke_type_columns])\n",
    "\n",
    "# attach predicted labels to our dataset\n",
    "poke[\"clusters\"] = kmeans.labels_\n",
    "\n",
    "#histogram of clusters\n",
    "x = poke[\"clusters\"]\n",
    "plt.hist(x)\n",
    "\n",
    "plt.style.use(\"fivethirtyeight\") \n",
    "plt.xticks(range(0, 8))\n",
    "plt.xlabel(\"Cluster\")\n",
    "plt.ylabel(\"Number of Pokemon\")\n",
    "plt.show()"
   ]
  },
  {
   "cell_type": "markdown",
   "metadata": {
    "papermill": {
     "duration": 0.04564,
     "end_time": "2021-01-07T04:54:38.546137",
     "exception": false,
     "start_time": "2021-01-07T04:54:38.500497",
     "status": "completed"
    },
    "tags": []
   },
   "source": [
    "Now that we've assigned each pokemon to a cluster let's find the weaknesses and strengths of each cluster"
   ]
  },
  {
   "cell_type": "code",
   "execution_count": 23,
   "metadata": {
    "execution": {
     "iopub.execute_input": "2021-01-07T04:54:38.642970Z",
     "iopub.status.busy": "2021-01-07T04:54:38.642358Z",
     "iopub.status.idle": "2021-01-07T04:54:38.722367Z",
     "shell.execute_reply": "2021-01-07T04:54:38.721800Z"
    },
    "papermill": {
     "duration": 0.128888,
     "end_time": "2021-01-07T04:54:38.722489",
     "exception": false,
     "start_time": "2021-01-07T04:54:38.593601",
     "status": "completed"
    },
    "tags": []
   },
   "outputs": [],
   "source": [
    "grid = []\n",
    "for j in poke_type_columns:\n",
    "    typ = []\n",
    "    for i in range(0,5):\n",
    "        typ.append(poke[poke[\"clusters\"] == i][j].mean())\n",
    "    grid.append(typ)"
   ]
  },
  {
   "cell_type": "code",
   "execution_count": 24,
   "metadata": {
    "execution": {
     "iopub.execute_input": "2021-01-07T04:54:38.820921Z",
     "iopub.status.busy": "2021-01-07T04:54:38.820159Z",
     "iopub.status.idle": "2021-01-07T04:54:38.837306Z",
     "shell.execute_reply": "2021-01-07T04:54:38.836426Z"
    },
    "papermill": {
     "duration": 0.068855,
     "end_time": "2021-01-07T04:54:38.837487",
     "exception": false,
     "start_time": "2021-01-07T04:54:38.768632",
     "status": "completed"
    },
    "tags": []
   },
   "outputs": [
    {
     "name": "stdout",
     "output_type": "stream",
     "text": [
      "     Normal      Fire     Water  Electric     Grass       Ice  Fighting  \\\n",
      "0  0.902256  1.661654  0.813910  0.986842  0.486842  1.733083  0.584586   \n",
      "1  0.712389  1.367257  1.323009  0.827434  0.584071  0.719027  1.216814   \n",
      "2  0.732759  0.810345  2.051724  0.224138  2.413793  1.672414  1.327586   \n",
      "3  0.861789  0.691057  0.686992  1.727642  1.593496  0.689024  0.747967   \n",
      "4  0.989933  1.070470  0.942953  0.939597  0.926174  1.083893  1.567114   \n",
      "\n",
      "     Poison    Ground    Flying   Psychic       Bug      Rock     Ghost  \\\n",
      "0  1.398496  0.503759  1.676692  1.063910  1.139098  1.725564  1.172932   \n",
      "1  0.497788  2.115044  0.743363  0.938053  0.584071  1.128319  1.106195   \n",
      "2  0.448276  1.344828  0.836207  0.913793  1.077586  0.629310  1.120690   \n",
      "3  0.926829  1.048780  1.040650  0.914634  1.154472  1.085366  1.386179   \n",
      "4  1.151007  0.996644  1.224832  0.966443  1.080537  1.046980  0.573826   \n",
      "\n",
      "     Dragon      Dark     Steel     Fairy  \n",
      "0  0.954887  1.146617  1.109023  1.007519  \n",
      "1  0.809735  1.075221  0.621681  0.650442  \n",
      "2  1.034483  1.129310  1.310345  1.120690  \n",
      "3  0.967480  1.337398  0.709350  1.048780  \n",
      "4  0.986577  0.746644  1.271812  1.617450  \n"
     ]
    }
   ],
   "source": [
    "grid1 = pd.DataFrame(grid)\n",
    "grid2 = grid1.transpose()\n",
    "grid2.columns = poke_type_columns\n",
    "# grid2[\"clusters\"] = [1,2,3,4,5,6,7,8]\n",
    "print(grid2)"
   ]
  },
  {
   "cell_type": "code",
   "execution_count": 25,
   "metadata": {
    "execution": {
     "iopub.execute_input": "2021-01-07T04:54:38.948893Z",
     "iopub.status.busy": "2021-01-07T04:54:38.948038Z",
     "iopub.status.idle": "2021-01-07T04:54:38.951196Z",
     "shell.execute_reply": "2021-01-07T04:54:38.950643Z"
    },
    "papermill": {
     "duration": 0.061606,
     "end_time": "2021-01-07T04:54:38.951304",
     "exception": false,
     "start_time": "2021-01-07T04:54:38.889698",
     "status": "completed"
    },
    "tags": []
   },
   "outputs": [],
   "source": [
    "pts = []\n",
    "for i in range(0,5):\n",
    "    df = pd.DataFrame(grid2)\n",
    "    pts.append(df.iloc[i, :])"
   ]
  },
  {
   "cell_type": "markdown",
   "metadata": {
    "papermill": {
     "duration": 0.048254,
     "end_time": "2021-01-07T04:54:39.046409",
     "exception": false,
     "start_time": "2021-01-07T04:54:38.998155",
     "status": "completed"
    },
    "tags": []
   },
   "source": [
    "### Cluster 1"
   ]
  },
  {
   "cell_type": "code",
   "execution_count": 26,
   "metadata": {
    "execution": {
     "iopub.execute_input": "2021-01-07T04:54:39.145293Z",
     "iopub.status.busy": "2021-01-07T04:54:39.144660Z",
     "iopub.status.idle": "2021-01-07T04:54:39.414946Z",
     "shell.execute_reply": "2021-01-07T04:54:39.415416Z"
    },
    "papermill": {
     "duration": 0.322116,
     "end_time": "2021-01-07T04:54:39.415561",
     "exception": false,
     "start_time": "2021-01-07T04:54:39.093445",
     "status": "completed"
    },
    "tags": []
   },
   "outputs": [
    {
     "data": {
      "text/plain": [
       "<matplotlib.axes._subplots.AxesSubplot at 0x7f03f4cd3410>"
      ]
     },
     "execution_count": 26,
     "metadata": {},
     "output_type": "execute_result"
    },
    {
     "data": {
      "image/png": "[encoded data removed]",
      "text/plain": [
       "<Figure size 1440x720 with 1 Axes>"
      ]
     },
     "metadata": {},
     "output_type": "display_data"
    }
   ],
   "source": [
    "pts[0].plot(y=poke_type_columns, kind=\"bar\")"
   ]
  },
  {
   "cell_type": "markdown",
   "metadata": {
    "papermill": {
     "duration": 0.047977,
     "end_time": "2021-01-07T04:54:39.511488",
     "exception": false,
     "start_time": "2021-01-07T04:54:39.463511",
     "status": "completed"
    },
    "tags": []
   },
   "source": [
    "From the above output we see that this cluster is weak against fire, ice, flying, and rock and strong against grass, fighting, and ground. This cluster consists of the type of pokemon that are grass, flying, fairy or some combination of the 3. Some pokemon in this cluster include Butterfree, Exeggutor, Mr. Mime, Pinser, and even Charizard. "
   ]
  },
  {
   "cell_type": "code",
   "execution_count": 27,
   "metadata": {
    "execution": {
     "iopub.execute_input": "2021-01-07T04:54:39.614031Z",
     "iopub.status.busy": "2021-01-07T04:54:39.613290Z",
     "iopub.status.idle": "2021-01-07T04:54:39.621352Z",
     "shell.execute_reply": "2021-01-07T04:54:39.622167Z"
    },
    "papermill": {
     "duration": 0.062287,
     "end_time": "2021-01-07T04:54:39.622371",
     "exception": false,
     "start_time": "2021-01-07T04:54:39.560084",
     "status": "completed"
    },
    "tags": []
   },
   "outputs": [
    {
     "name": "stdout",
     "output_type": "stream",
     "text": [
      "0                   Bulbasaur\n",
      "1                     Ivysaur\n",
      "2                    Venusaur\n",
      "5                   Charizard\n",
      "9                    Caterpie\n",
      "10                    Metapod\n",
      "11                 Butterfree\n",
      "27                     Oddish\n",
      "28                      Gloom\n",
      "29                  Vileplume\n",
      "57     Rapidash Galarian Form\n",
      "64                 Farfetch'd\n",
      "74                  Exeggcute\n",
      "75                  Exeggutor\n",
      "76       Exeggutor Alola Form\n",
      "89                    Tangela\n",
      "97                    Mr.Mime\n",
      "98      Mr.Mime Galarian Form\n",
      "99                    Scyther\n",
      "100                    Pinsir\n",
      "114                  Hoothoot\n",
      "115                   Noctowl\n",
      "122                   Togetic\n",
      "123                      Natu\n",
      "124                      Xatu\n",
      "125                 Bellossom\n",
      "141                 Heracross\n",
      "149                  Delibird\n",
      "161                    Celebi\n",
      "166                     Lotad\n",
      "Name: Name, dtype: object\n"
     ]
    }
   ],
   "source": [
    "#run to see 30 pokemon in this cluster\n",
    "print(poke[poke[\"clusters\"]==0][\"Name\"].head(30))"
   ]
  },
  {
   "cell_type": "markdown",
   "metadata": {
    "papermill": {
     "duration": 0.048316,
     "end_time": "2021-01-07T04:54:39.721779",
     "exception": false,
     "start_time": "2021-01-07T04:54:39.673463",
     "status": "completed"
    },
    "tags": []
   },
   "source": [
    "### Cluster 2"
   ]
  },
  {
   "cell_type": "code",
   "execution_count": 28,
   "metadata": {
    "execution": {
     "iopub.execute_input": "2021-01-07T04:54:39.822890Z",
     "iopub.status.busy": "2021-01-07T04:54:39.822198Z",
     "iopub.status.idle": "2021-01-07T04:54:40.080449Z",
     "shell.execute_reply": "2021-01-07T04:54:40.080973Z"
    },
    "papermill": {
     "duration": 0.310499,
     "end_time": "2021-01-07T04:54:40.081123",
     "exception": false,
     "start_time": "2021-01-07T04:54:39.770624",
     "status": "completed"
    },
    "tags": []
   },
   "outputs": [
    {
     "data": {
      "text/plain": [
       "<matplotlib.axes._subplots.AxesSubplot at 0x7f03f4c86f90>"
      ]
     },
     "execution_count": 28,
     "metadata": {},
     "output_type": "execute_result"
    },
    {
     "data": {
      "image/png": "[encoded data removed]",
      "text/plain": [
       "<Figure size 1440x720 with 1 Axes>"
      ]
     },
     "metadata": {},
     "output_type": "display_data"
    }
   ],
   "source": [
    "pts[1].plot(y=poke_type_columns, kind=\"bar\")"
   ]
  },
  {
   "cell_type": "markdown",
   "metadata": {
    "papermill": {
     "duration": 0.050404,
     "end_time": "2021-01-07T04:54:40.182883",
     "exception": false,
     "start_time": "2021-01-07T04:54:40.132479",
     "status": "completed"
    },
    "tags": []
   },
   "source": [
    "From the above output we see that this cluster is moderately weak against fire, water, fighting and very weak against ground. This cluster is strong against grass, poison, and bug. This cluster consists of the type of pokemon that are fire, electric, poison, or steel which explains the strong weakness to ground type attacks. Some pokemon in this cluster include Ninetails, Joltion, gastly, and Magnemite."
   ]
  },
  {
   "cell_type": "code",
   "execution_count": 29,
   "metadata": {
    "execution": {
     "iopub.execute_input": "2021-01-07T04:54:40.292749Z",
     "iopub.status.busy": "2021-01-07T04:54:40.291745Z",
     "iopub.status.idle": "2021-01-07T04:54:40.295175Z",
     "shell.execute_reply": "2021-01-07T04:54:40.295761Z"
    },
    "papermill": {
     "duration": 0.06211,
     "end_time": "2021-01-07T04:54:40.295905",
     "exception": false,
     "start_time": "2021-01-07T04:54:40.233795",
     "status": "completed"
    },
    "tags": []
   },
   "outputs": [
    {
     "name": "stdout",
     "output_type": "stream",
     "text": [
      "3                 Charmander\n",
      "4                 Charmeleon\n",
      "12                   Pikachu\n",
      "13                    Raichu\n",
      "16      Sandshrew Alola Form\n",
      "18      Sandslash Alola Form\n",
      "21                    Vulpix\n",
      "23                 Ninetales\n",
      "31        Diglett Alola Form\n",
      "33        Dugtrio Alola Form\n",
      "36      Meowth Galarian Form\n",
      "41                 Growlithe\n",
      "42                  Arcanine\n",
      "54                    Ponyta\n",
      "56                  Rapidash\n",
      "61     Slowbro Galarian Form\n",
      "62                 Magnemite\n",
      "63                  Magneton\n",
      "68                    Gastly\n",
      "69                   Haunter\n",
      "70                    Gengar\n",
      "79        Marowak Alola Form\n",
      "83                   Koffing\n",
      "84                   Weezing\n",
      "85     Weezing Galarian Form\n",
      "108                  Jolteon\n",
      "109                  Flareon\n",
      "118                    Pichu\n",
      "137                  Steelix\n",
      "139                   Scizor\n",
      "Name: Name, dtype: object\n"
     ]
    }
   ],
   "source": [
    "#run to see 30 pokemon in this cluster\n",
    "print(poke[poke[\"clusters\"]==1][\"Name\"].head(30))"
   ]
  },
  {
   "cell_type": "markdown",
   "metadata": {
    "papermill": {
     "duration": 0.051467,
     "end_time": "2021-01-07T04:54:40.399176",
     "exception": false,
     "start_time": "2021-01-07T04:54:40.347709",
     "status": "completed"
    },
    "tags": []
   },
   "source": [
    "### Cluster 3"
   ]
  },
  {
   "cell_type": "code",
   "execution_count": 30,
   "metadata": {
    "execution": {
     "iopub.execute_input": "2021-01-07T04:54:40.532104Z",
     "iopub.status.busy": "2021-01-07T04:54:40.521413Z",
     "iopub.status.idle": "2021-01-07T04:54:40.769732Z",
     "shell.execute_reply": "2021-01-07T04:54:40.769062Z"
    },
    "papermill": {
     "duration": 0.313701,
     "end_time": "2021-01-07T04:54:40.769857",
     "exception": false,
     "start_time": "2021-01-07T04:54:40.456156",
     "status": "completed"
    },
    "tags": []
   },
   "outputs": [
    {
     "data": {
      "text/plain": [
       "<matplotlib.axes._subplots.AxesSubplot at 0x7f03f4bd2dd0>"
      ]
     },
     "execution_count": 30,
     "metadata": {},
     "output_type": "execute_result"
    },
    {
     "data": {
      "image/png": "[encoded data removed]",
      "text/plain": [
       "<Figure size 1440x720 with 1 Axes>"
      ]
     },
     "metadata": {},
     "output_type": "display_data"
    }
   ],
   "source": [
    "pts[2].plot(y=poke_type_columns, kind=\"bar\")"
   ]
  },
  {
   "cell_type": "markdown",
   "metadata": {
    "papermill": {
     "duration": 0.052088,
     "end_time": "2021-01-07T04:54:40.874887",
     "exception": false,
     "start_time": "2021-01-07T04:54:40.822799",
     "status": "completed"
    },
    "tags": []
   },
   "source": [
    "From the above output we see that this cluster is moderately weak against ice, ground, fighting, very weak against water and extremely weak against grass. This cluster is strong against poison, and rock and extremely strong against electric. This cluster consists of the type of mostly pokemon that are ground and rock which explains the strong weakness to grass type attacks and strong defense to electric. Some pokemon in this cluster include Diglett, Cubone, Tyranitar, and Rydon."
   ]
  },
  {
   "cell_type": "code",
   "execution_count": 31,
   "metadata": {
    "execution": {
     "iopub.execute_input": "2021-01-07T04:54:40.989715Z",
     "iopub.status.busy": "2021-01-07T04:54:40.988864Z",
     "iopub.status.idle": "2021-01-07T04:54:40.992869Z",
     "shell.execute_reply": "2021-01-07T04:54:40.992184Z"
    },
    "papermill": {
     "duration": 0.064958,
     "end_time": "2021-01-07T04:54:40.992988",
     "exception": false,
     "start_time": "2021-01-07T04:54:40.928030",
     "status": "completed"
    },
    "tags": []
   },
   "outputs": [
    {
     "name": "stdout",
     "output_type": "stream",
     "text": [
      "15      Sandshrew\n",
      "17      Sandslash\n",
      "30        Diglett\n",
      "32        Dugtrio\n",
      "71           Onix\n",
      "77         Cubone\n",
      "78        Marowak\n",
      "86        Rhyhorn\n",
      "87         Rhydon\n",
      "128     Sudowoodo\n",
      "130        Wooper\n",
      "131      Quagsire\n",
      "143        Swinub\n",
      "144     Piloswine\n",
      "158      Larvitar\n",
      "159       Pupitar\n",
      "160     Tyranitar\n",
      "194      Trapinch\n",
      "195       Vibrava\n",
      "196        Flygon\n",
      "197      Lunatone\n",
      "198       Solrock\n",
      "199      Barboach\n",
      "200      Whiscash\n",
      "203        Baltoy\n",
      "204       Claydol\n",
      "223     Gastrodon\n",
      "232        Bonsly\n",
      "238    Hippopotas\n",
      "239     Hippowdon\n",
      "Name: Name, dtype: object\n"
     ]
    }
   ],
   "source": [
    "#run to see 30 pokemon in this cluster\n",
    "print(poke[poke[\"clusters\"]==2][\"Name\"].head(30))"
   ]
  },
  {
   "cell_type": "markdown",
   "metadata": {
    "papermill": {
     "duration": 0.053095,
     "end_time": "2021-01-07T04:54:41.099700",
     "exception": false,
     "start_time": "2021-01-07T04:54:41.046605",
     "status": "completed"
    },
    "tags": []
   },
   "source": [
    "### Cluster 4"
   ]
  },
  {
   "cell_type": "code",
   "execution_count": 32,
   "metadata": {
    "execution": {
     "iopub.execute_input": "2021-01-07T04:54:41.221392Z",
     "iopub.status.busy": "2021-01-07T04:54:41.213235Z",
     "iopub.status.idle": "2021-01-07T04:54:41.466307Z",
     "shell.execute_reply": "2021-01-07T04:54:41.465749Z"
    },
    "papermill": {
     "duration": 0.313855,
     "end_time": "2021-01-07T04:54:41.466414",
     "exception": false,
     "start_time": "2021-01-07T04:54:41.152559",
     "status": "completed"
    },
    "tags": []
   },
   "outputs": [
    {
     "data": {
      "text/plain": [
       "<matplotlib.axes._subplots.AxesSubplot at 0x7f03f4b084d0>"
      ]
     },
     "execution_count": 32,
     "metadata": {},
     "output_type": "execute_result"
    },
    {
     "data": {
      "image/png": "[encoded data removed]",
      "text/plain": [
       "<Figure size 1440x720 with 1 Axes>"
      ]
     },
     "metadata": {},
     "output_type": "display_data"
    }
   ],
   "source": [
    "pts[3].plot(y=poke_type_columns, kind=\"bar\")"
   ]
  },
  {
   "cell_type": "markdown",
   "metadata": {
    "papermill": {
     "duration": 0.055185,
     "end_time": "2021-01-07T04:54:41.577112",
     "exception": false,
     "start_time": "2021-01-07T04:54:41.521927",
     "status": "completed"
    },
    "tags": []
   },
   "source": [
    "From the above output we see that this cluster is weak against electric, grass, ghost, and dark. This cluster is strong against fire, water, ice, and steel. This cluster consists of the type of pokemon that are water and psychic type. Some pokemon in this cluster include Abra, Wartortle, Slowpoke, Mew, and Kingler."
   ]
  },
  {
   "cell_type": "code",
   "execution_count": 33,
   "metadata": {
    "execution": {
     "iopub.execute_input": "2021-01-07T04:54:41.701526Z",
     "iopub.status.busy": "2021-01-07T04:54:41.700557Z",
     "iopub.status.idle": "2021-01-07T04:54:41.704481Z",
     "shell.execute_reply": "2021-01-07T04:54:41.705237Z"
    },
    "papermill": {
     "duration": 0.068477,
     "end_time": "2021-01-07T04:54:41.705427",
     "exception": false,
     "start_time": "2021-01-07T04:54:41.636950",
     "status": "completed"
    },
    "tags": []
   },
   "outputs": [
    {
     "name": "stdout",
     "output_type": "stream",
     "text": [
      "6                    Squirtle\n",
      "7                   Wartortle\n",
      "8                   Blastoise\n",
      "14          Raichu Alola Form\n",
      "39                    Psyduck\n",
      "40                    Golduck\n",
      "43                    Poliwag\n",
      "44                  Poliwhirl\n",
      "45                  Poliwrath\n",
      "46                       Abra\n",
      "47                    Kadabra\n",
      "48                   Alakazam\n",
      "52                  Tentacool\n",
      "53                 Tentacruel\n",
      "55       Ponyta Galarian Form\n",
      "58                   Slowpoke\n",
      "59     Slowpoke Galarian Form\n",
      "60                    Slowbro\n",
      "66                   Shellder\n",
      "67                   Cloyster\n",
      "72                     Krabby\n",
      "73                    Kingler\n",
      "91                     Horsea\n",
      "92                     Seadra\n",
      "93                    Goldeen\n",
      "94                    Seaking\n",
      "95                     Staryu\n",
      "96                    Starmie\n",
      "102                  Magikarp\n",
      "103                  Gyarados\n",
      "Name: Name, dtype: object\n"
     ]
    }
   ],
   "source": [
    "#run to see 30 pokemon in this cluster\n",
    "print(poke[poke[\"clusters\"]==3][\"Name\"].head(30))"
   ]
  },
  {
   "cell_type": "markdown",
   "metadata": {
    "papermill": {
     "duration": 0.056301,
     "end_time": "2021-01-07T04:54:41.819244",
     "exception": false,
     "start_time": "2021-01-07T04:54:41.762943",
     "status": "completed"
    },
    "tags": []
   },
   "source": [
    "### Cluster 5"
   ]
  },
  {
   "cell_type": "code",
   "execution_count": 34,
   "metadata": {
    "execution": {
     "iopub.execute_input": "2021-01-07T04:54:41.944415Z",
     "iopub.status.busy": "2021-01-07T04:54:41.943156Z",
     "iopub.status.idle": "2021-01-07T04:54:42.201330Z",
     "shell.execute_reply": "2021-01-07T04:54:42.200478Z"
    },
    "papermill": {
     "duration": 0.326086,
     "end_time": "2021-01-07T04:54:42.201504",
     "exception": false,
     "start_time": "2021-01-07T04:54:41.875418",
     "status": "completed"
    },
    "tags": []
   },
   "outputs": [
    {
     "data": {
      "text/plain": [
       "<matplotlib.axes._subplots.AxesSubplot at 0x7f03f4ba34d0>"
      ]
     },
     "execution_count": 34,
     "metadata": {},
     "output_type": "execute_result"
    },
    {
     "data": {
      "image/png": "[encoded data removed]",
      "text/plain": [
       "<Figure size 1440x720 with 1 Axes>"
      ]
     },
     "metadata": {},
     "output_type": "display_data"
    }
   ],
   "source": [
    "pts[4].plot(y=poke_type_columns, kind=\"bar\")"
   ]
  },
  {
   "cell_type": "markdown",
   "metadata": {
    "papermill": {
     "duration": 0.057227,
     "end_time": "2021-01-07T04:54:42.316268",
     "exception": false,
     "start_time": "2021-01-07T04:54:42.259041",
     "status": "completed"
    },
    "tags": []
   },
   "source": [
    "From the above output we see that this cluster is weak against electric, grass, ghost, and dark. This cluster is strong against fire, water, ice, and steel. This cluster consists of the type of pokemon that are water and psychic type. Some pokemon in this cluster include Abra, Wartortle, Slowpoke, Mew, and Kingler."
   ]
  },
  {
   "cell_type": "code",
   "execution_count": 35,
   "metadata": {
    "execution": {
     "iopub.execute_input": "2021-01-07T04:54:42.439500Z",
     "iopub.status.busy": "2021-01-07T04:54:42.438720Z",
     "iopub.status.idle": "2021-01-07T04:54:42.442630Z",
     "shell.execute_reply": "2021-01-07T04:54:42.442035Z"
    },
    "papermill": {
     "duration": 0.068978,
     "end_time": "2021-01-07T04:54:42.442778",
     "exception": false,
     "start_time": "2021-01-07T04:54:42.373800",
     "status": "completed"
    },
    "tags": []
   },
   "outputs": [
    {
     "name": "stdout",
     "output_type": "stream",
     "text": [
      "6                    Squirtle\n",
      "7                   Wartortle\n",
      "8                   Blastoise\n",
      "14          Raichu Alola Form\n",
      "39                    Psyduck\n",
      "40                    Golduck\n",
      "43                    Poliwag\n",
      "44                  Poliwhirl\n",
      "45                  Poliwrath\n",
      "46                       Abra\n",
      "47                    Kadabra\n",
      "48                   Alakazam\n",
      "52                  Tentacool\n",
      "53                 Tentacruel\n",
      "55       Ponyta Galarian Form\n",
      "58                   Slowpoke\n",
      "59     Slowpoke Galarian Form\n",
      "60                    Slowbro\n",
      "66                   Shellder\n",
      "67                   Cloyster\n",
      "72                     Krabby\n",
      "73                    Kingler\n",
      "91                     Horsea\n",
      "92                     Seadra\n",
      "93                    Goldeen\n",
      "94                    Seaking\n",
      "95                     Staryu\n",
      "96                    Starmie\n",
      "102                  Magikarp\n",
      "103                  Gyarados\n",
      "Name: Name, dtype: object\n"
     ]
    }
   ],
   "source": [
    "#run to see 30 pokemon in this cluster\n",
    "print(poke[poke[\"clusters\"]==3][\"Name\"].head(30))"
   ]
  },
  {
   "cell_type": "markdown",
   "metadata": {
    "papermill": {
     "duration": 0.057398,
     "end_time": "2021-01-07T04:54:42.557552",
     "exception": false,
     "start_time": "2021-01-07T04:54:42.500154",
     "status": "completed"
    },
    "tags": []
   },
   "source": [
    "# Conclusion"
   ]
  },
  {
   "cell_type": "markdown",
   "metadata": {
    "papermill": {
     "duration": 0.058389,
     "end_time": "2021-01-07T04:54:42.674618",
     "exception": false,
     "start_time": "2021-01-07T04:54:42.616229",
     "status": "completed"
    },
    "tags": []
   },
   "source": [
    "In conclusion we used the pokemon dataset to get better understanding of pokemon tpes and their combinations. I first calculated an aggregate score from the type matchup scores to find the weakest and strongest pokemon type combinations. Then I used a K-Means cluster analysis to group like-type combinations to better understand which types are most similar and to help us choose a pokemon team. "
   ]
  }
 ],
 "metadata": {
  "kernelspec": {
   "display_name": "Python 3",
   "language": "python",
   "name": "python3"
  },
  "language_info": {
   "codemirror_mode": {
    "name": "ipython",
    "version": 3
   },
   "file_extension": ".py",
   "mimetype": "text/x-python",
   "name": "python",
   "nbconvert_exporter": "python",
   "pygments_lexer": "ipython3",
   "version": "3.7.6"
  },
  "papermill": {
   "duration": 28.27025,
   "end_time": "2021-01-07T04:54:42.844754",
   "environment_variables": {},
   "exception": null,
   "input_path": "__notebook__.ipynb",
   "output_path": "__notebook__.ipynb",
   "parameters": {},
   "start_time": "2021-01-07T04:54:14.574504",
   "version": "2.1.0"
  }
 },
 "nbformat": 4,
 "nbformat_minor": 4
}
